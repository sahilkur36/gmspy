{
 "cells": [
  {
   "cell_type": "markdown",
   "id": "8c1870bf",
   "metadata": {},
   "source": [
    "# Parallelization using joblib"
   ]
  },
  {
   "cell_type": "code",
   "execution_count": 1,
   "id": "606f325d",
   "metadata": {},
   "outputs": [],
   "source": [
    "import time\n",
    "import gmspy as gm\n",
    "import matplotlib.pyplot as plt\n",
    "import numpy as np\n",
    "import pandas as pd\n",
    "from joblib import Parallel, delayed"
   ]
  },
  {
   "cell_type": "markdown",
   "id": "b1bf5716",
   "metadata": {},
   "source": [
    "You can check the configuration of this computer in advance"
   ]
  },
  {
   "cell_type": "code",
   "execution_count": 2,
   "id": "498a1e0d",
   "metadata": {},
   "outputs": [
    {
     "name": "stdout",
     "output_type": "stream",
     "text": [
      "the number of physical cores: 14\n",
      "the number of logical cores: 20\n",
      "CPU frequency: scpufreq(current=2300.0, min=0.0, max=2300.0)\n"
     ]
    }
   ],
   "source": [
    "import psutil\n",
    "print(\"the number of physical cores:\", psutil.cpu_count(logical=False))\n",
    "print(\"the number of logical cores:\", psutil.cpu_count())\n",
    "print(\"CPU frequency:\", psutil.cpu_freq())"
   ]
  },
  {
   "cell_type": "markdown",
   "id": "51599f8e",
   "metadata": {},
   "source": [
    "Below is the ground motion data built into gmspy, you can also document the PEER database through [loadPEER](/api/#gmspy.loadPEER), or you can read the data from text using [numpy.loadtxt](https://numpy.org/doc/stable/reference/generated/numpy.loadtxt.html)."
   ]
  },
  {
   "cell_type": "code",
   "execution_count": 3,
   "id": "fa7bcf78",
   "metadata": {},
   "outputs": [],
   "source": [
    "ts, acc = gm.load_gm_examples(\"Kobe\")\n",
    "dt = ts[1] - ts[0]\n",
    "# You can also use other acc data"
   ]
  },
  {
   "cell_type": "markdown",
   "id": "9b8c89d1",
   "metadata": {},
   "source": [
    "Suppose we have 1000 ground motions:"
   ]
  },
  {
   "cell_type": "code",
   "execution_count": 4,
   "id": "28825111",
   "metadata": {},
   "outputs": [],
   "source": [
    "all_accs = [acc] * 1000"
   ]
  },
  {
   "cell_type": "markdown",
   "id": "2da5ccc1",
   "metadata": {},
   "source": [
    "A parallel function needs to be defined, here is the IMs of the ground motions"
   ]
  },
  {
   "cell_type": "code",
   "execution_count": 5,
   "id": "5bb6619e",
   "metadata": {},
   "outputs": [],
   "source": [
    "def get_ims(acc, dt):\n",
    "    \"\"\"Compute intensity measures for the given acceleration data.\"\"\"\n",
    "    GM = gm.SeismoGM(dt=dt, acc=acc, unit=\"g\")\n",
    "    ims = GM.get_ims(display_results=False)\n",
    "    pga = ims[\"PGA\"]\n",
    "    pgv = ims[\"PGV\"]\n",
    "    pgd = ims[\"PGD\"]\n",
    "    ia = ims[\"Ia\"]  # Arias Intensity \n",
    "    # elastic spectral acceleration for T=1.0s, index 0 is the spectral acceleration\n",
    "    sat1 = GM.get_elas_spec(Ts=1.0, damp_ratio=0.05)[0]\n",
    "    # average spectral acceleration, index 0 is the spectral acceleration\n",
    "    Tavg = np.arange(0.05, 4.05, 0.05)\n",
    "    avgsa = GM.get_avgsavd(Tavg=Tavg)[0]\n",
    "    return pga, pgv, pgd, ia, sat1, avgsa"
   ]
  },
  {
   "cell_type": "code",
   "execution_count": 6,
   "id": "dd21c688",
   "metadata": {},
   "outputs": [],
   "source": [
    "start_time = time.time()"
   ]
  },
  {
   "cell_type": "markdown",
   "id": "a7cff76a",
   "metadata": {},
   "source": [
    "For more details, please refer to [joblib.Parallel](https://joblib.readthedocs.io/en/latest/generated/joblib.Parallel.html).\n",
    "\n",
    "``n_jobs=-1`` means using all possible CPU cores."
   ]
  },
  {
   "cell_type": "code",
   "execution_count": 7,
   "id": "7d6a5a09",
   "metadata": {},
   "outputs": [],
   "source": [
    "output = Parallel(n_jobs=-1)(delayed(get_ims)(acc, dt=dt) for acc in all_accs)"
   ]
  },
  {
   "cell_type": "code",
   "execution_count": 8,
   "id": "362fcb42",
   "metadata": {},
   "outputs": [
    {
     "name": "stdout",
     "output_type": "stream",
     "text": [
      "Parallel computation took 18.98 seconds\n"
     ]
    }
   ],
   "source": [
    "end_time = time.time()\n",
    "print(f\"Parallel computation took {end_time - start_time:.2f} seconds\")"
   ]
  },
  {
   "cell_type": "markdown",
   "id": "ecebf8b8",
   "metadata": {},
   "source": [
    "Convert to pandas.DataFrame"
   ]
  },
  {
   "cell_type": "code",
   "execution_count": 9,
   "id": "3b713474",
   "metadata": {},
   "outputs": [
    {
     "data": {
      "text/html": [
       "<div>\n",
       "<style scoped>\n",
       "    .dataframe tbody tr th:only-of-type {\n",
       "        vertical-align: middle;\n",
       "    }\n",
       "\n",
       "    .dataframe tbody tr th {\n",
       "        vertical-align: top;\n",
       "    }\n",
       "\n",
       "    .dataframe thead th {\n",
       "        text-align: right;\n",
       "    }\n",
       "</style>\n",
       "<table border=\"1\" class=\"dataframe\">\n",
       "  <thead>\n",
       "    <tr style=\"text-align: right;\">\n",
       "      <th></th>\n",
       "      <th>PGA</th>\n",
       "      <th>PGV</th>\n",
       "      <th>PGD</th>\n",
       "      <th>IA</th>\n",
       "      <th>SAT1</th>\n",
       "      <th>AVGSA</th>\n",
       "    </tr>\n",
       "  </thead>\n",
       "  <tbody>\n",
       "    <tr>\n",
       "      <th>0</th>\n",
       "      <td>0.3447</td>\n",
       "      <td>27.677934</td>\n",
       "      <td>9.693236</td>\n",
       "      <td>1.68744</td>\n",
       "      <td>0.351312</td>\n",
       "      <td>0.155794</td>\n",
       "    </tr>\n",
       "    <tr>\n",
       "      <th>1</th>\n",
       "      <td>0.3447</td>\n",
       "      <td>27.677934</td>\n",
       "      <td>9.693236</td>\n",
       "      <td>1.68744</td>\n",
       "      <td>0.351312</td>\n",
       "      <td>0.155794</td>\n",
       "    </tr>\n",
       "    <tr>\n",
       "      <th>2</th>\n",
       "      <td>0.3447</td>\n",
       "      <td>27.677934</td>\n",
       "      <td>9.693236</td>\n",
       "      <td>1.68744</td>\n",
       "      <td>0.351312</td>\n",
       "      <td>0.155794</td>\n",
       "    </tr>\n",
       "    <tr>\n",
       "      <th>3</th>\n",
       "      <td>0.3447</td>\n",
       "      <td>27.677934</td>\n",
       "      <td>9.693236</td>\n",
       "      <td>1.68744</td>\n",
       "      <td>0.351312</td>\n",
       "      <td>0.155794</td>\n",
       "    </tr>\n",
       "    <tr>\n",
       "      <th>4</th>\n",
       "      <td>0.3447</td>\n",
       "      <td>27.677934</td>\n",
       "      <td>9.693236</td>\n",
       "      <td>1.68744</td>\n",
       "      <td>0.351312</td>\n",
       "      <td>0.155794</td>\n",
       "    </tr>\n",
       "  </tbody>\n",
       "</table>\n",
       "</div>"
      ],
      "text/plain": [
       "      PGA        PGV       PGD       IA      SAT1     AVGSA\n",
       "0  0.3447  27.677934  9.693236  1.68744  0.351312  0.155794\n",
       "1  0.3447  27.677934  9.693236  1.68744  0.351312  0.155794\n",
       "2  0.3447  27.677934  9.693236  1.68744  0.351312  0.155794\n",
       "3  0.3447  27.677934  9.693236  1.68744  0.351312  0.155794\n",
       "4  0.3447  27.677934  9.693236  1.68744  0.351312  0.155794"
      ]
     },
     "execution_count": 9,
     "metadata": {},
     "output_type": "execute_result"
    }
   ],
   "source": [
    "IMS = pd.DataFrame(output, columns=[\"PGA\", \"PGV\", \"PGD\", \"IA\", \"SAT1\", \"AVGSA\"])\n",
    "\n",
    "IMS.head()"
   ]
  }
 ],
 "metadata": {
  "kernelspec": {
   "display_name": "base",
   "language": "python",
   "name": "python3"
  },
  "language_info": {
   "codemirror_mode": {
    "name": "ipython",
    "version": 3
   },
   "file_extension": ".py",
   "mimetype": "text/x-python",
   "name": "python",
   "nbconvert_exporter": "python",
   "pygments_lexer": "ipython3",
   "version": "3.12.7"
  }
 },
 "nbformat": 4,
 "nbformat_minor": 5
}
