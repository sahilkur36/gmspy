{
 "cells": [
  {
   "cell_type": "markdown",
   "id": "5d6d0069",
   "metadata": {
    "vscode": {
     "languageId": "plaintext"
    }
   },
   "source": [
    "Below is a gallery of examples"
   ]
  },
  {
   "cell_type": "markdown",
   "id": "28548b7e0129f7c7",
   "metadata": {},
   "source": [
    "# preprocessing"
   ]
  },
  {
   "cell_type": "markdown",
   "id": "7f7cf83549bc5954",
   "metadata": {},
   "source": [
    "**gmspy** provides some functions to pre-process acceleration time-histories,\n",
    "including baseline correction, filtering, and resampling, etc."
   ]
  },
  {
   "cell_type": "markdown",
   "id": "ddbfa7175dc09722",
   "metadata": {
    "tags": [
     "nbsphinx-gallery"
    ]
   },
   "source": [
    "* [Baseline Correction](01preprocessing/plot_01_baseline_correction.ipynb)\n",
    "* [Filtering](01preprocessing/plot_02_filtering.ipynb)\n",
    "* [Resampling](01preprocessing/plot_03_resample.ipynb)\n",
    "* [Linear Dynamic Time-History Analysis of SDOF System](01preprocessing/plot_04_lida.ipynb)"
   ]
  },
  {
   "cell_type": "markdown",
   "id": "a83edb2bfe32a07f",
   "metadata": {},
   "source": [
    "# SeismoGM"
   ]
  },
  {
   "cell_type": "markdown",
   "id": "b71ff3dc3763f3f1",
   "metadata": {},
   "source": [
    "\n",
    "[SeismoGM](https://gmspy.readthedocs.io/en/latest/src/gmspy.html#gmspy.SeismoGM) is a class for computing various intensity measures (IMs) of ground motions,\n",
    "as well as elastic response spectra, constant ductility response spectra, and spectrum-related IMs."
   ]
  },
  {
   "cell_type": "markdown",
   "id": "9f87a2646abc4aca",
   "metadata": {
    "tags": [
     "nbsphinx-gallery"
    ]
   },
   "source": [
    "* [Elastic response spectra](02seismo/01elas.ipynb)\n",
    "* [Constant ductility response spectra](02seismo/02cdsp.ipynb)"
   ]
  }
 ],
 "metadata": {
  "kernelspec": {
   "display_name": "Python 3",
   "language": "python",
   "name": "python3"
  },
  "language_info": {
   "codemirror_mode": {
    "name": "ipython",
    "version": 2
   },
   "file_extension": ".py",
   "mimetype": "text/x-python",
   "name": "python",
   "nbconvert_exporter": "python",
   "pygments_lexer": "ipython2",
   "version": "2.7.6"
  }
 },
 "nbformat": 4,
 "nbformat_minor": 5
}
