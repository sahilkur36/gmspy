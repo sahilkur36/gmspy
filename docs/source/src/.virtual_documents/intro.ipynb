


import gmspy as gm
import matplotlib.pyplot as plt
import numpy as np
from scipy.integrate import cumulative_trapezoid








ts, acc = gm.load_gm_examples("Kobe")
dt = ts[1] - ts[0]











acc_corr, vel_corr, disp_corr = gm.baselinecorr(ts, acc, poly_degree=1, plot=True)








ts, acc = gm.load_gm_examples("ChiChi")
dt = ts[1] - ts[0]
acc2 = gm.freq_filt(
    dt,
    acc,
    ftype="Butterworth",  # 'Butterworth', 'Chebyshev', 'Bessel'
    btype="lowpass",  # 'lowpass', 'highpass', 'bandpass', 'bandstop'
    order=4,
    freq1=9,
    freq2=20,
    rp=3,
    plot=True,
)








ts, acc = gm.load_gm_examples("Imperial_Valley")
dt = ts[1] - ts[0]
dtis = [dt / 2, 2 * dt]

colors = ["b", "r"]
fig, ax = plt.subplots(figsize=(9, 4))
ax.hlines(0, np.min(ts), np.max(ts), lw=0.5, colors="gray")
ax.plot(ts, acc, c="gray", lw=1, label=f"origin, dt={dt}, num={len(ts)}", alpha=1)
for i, dti in enumerate(dtis):
    ts2, acc2 = gm.resample(dt, acc, dti)
    ax.plot(ts2, acc2, c=colors[i], lw=1, alpha=1, label=f"dti={dti}, num={len(ts2)}")
ax.set_xlim(np.min(ts), np.max(ts))
ax.grid(False)
ax.set_ylabel("acceleration", fontsize=12)
ax.tick_params(labelsize=12)
ax.legend(fontsize=12)
plt.show()








ts, acc = gm.load_gm_examples("Kocaeli")
dt = ts[1] - ts[0]
T = 1
omega = np.pi * 2 / T
u, v, d = gm.lida(dt, acc, omega=omega, damp_ratio=0.05, plot=True)








ts, acc = gm.load_gm_examples("Northridge")
dt = ts[1] - ts[0]





GM = gm.SeismoGM(dt=dt, acc=acc, unit="g")
GM.plot_hist()





GM.set_units(acc="m", vel="m", disp="m")
GM.plot_hist()








ims = GM.get_ims(display_results=True)








Ts = np.arange(0.05, 4.05, 0.05)
spectra = GM.get_elas_spec(Ts=Ts, damp_ratio=0.05, plot=True)
# PSa, PSv, Sa, Sv, Sd for each column








output = GM.get_fou_pow_spec(plot=True)








output = GM.get_const_duct_spec(
    Ts=Ts, harden_ratio=0.02, damp_ratio=0.05, mu=5, plot=True
)











T1 = 1.0
GM.get_elas_spec(Ts=T1)








GM.get_sac(T1=1)





GM.get_savam(T1=1, T2=0.75, T3=2)





GM.get_samp(T1=1, T2=0.75, m1=0.2, m2=0.1)








Tavg = np.arange(0.05, 4.05, 0.05)
GM.get_avgsavd(Tavg=Tavg)





GM.get_savdp()





GM.get_avdsi()





GM.get_hsi()





GM.get_epavd()





















