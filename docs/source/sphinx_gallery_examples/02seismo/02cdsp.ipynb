{
  "cells": [
    {
      "cell_type": "code",
      "execution_count": null,
      "metadata": {
        "collapsed": false
      },
      "outputs": [],
      "source": [
        "%matplotlib inline"
      ]
    },
    {
      "cell_type": "markdown",
      "metadata": {},
      "source": [
        "\n\n# Constant ductility response spectra\n"
      ]
    },
    {
      "cell_type": "code",
      "execution_count": null,
      "metadata": {
        "collapsed": false
      },
      "outputs": [],
      "source": [
        "import numpy as np\nimport gmspy as gm"
      ]
    },
    {
      "cell_type": "markdown",
      "metadata": {},
      "source": [
        "load examples\n\n"
      ]
    },
    {
      "cell_type": "code",
      "execution_count": null,
      "metadata": {
        "collapsed": false
      },
      "outputs": [],
      "source": [
        "ts, acc = gm.load_gm_examples('Northridge')\ndt = ts[1] - ts[0]"
      ]
    },
    {
      "cell_type": "markdown",
      "metadata": {},
      "source": [
        "Instantiate the class SeismoGM\n\n"
      ]
    },
    {
      "cell_type": "code",
      "execution_count": null,
      "metadata": {
        "collapsed": false
      },
      "outputs": [],
      "source": [
        "GM = gm.SeismoGM(dt=dt, acc=acc, unit='g')"
      ]
    },
    {
      "cell_type": "markdown",
      "metadata": {},
      "source": [
        "Constant ductility response spectra,\nEach column corresponds to acceleration Sa, velocity Sv, displacement Sd spectra,\nyield displacement Dy, strength reduction factor Ry, and yield strength factor Cy (1/Ry)\n\n"
      ]
    },
    {
      "cell_type": "code",
      "execution_count": null,
      "metadata": {
        "collapsed": false
      },
      "outputs": [],
      "source": [
        "Ts = np.arange(0.05, 4.05, 0.05)\noutput = GM.get_const_duct_spec(Ts=Ts, harden_ratio=0.02,\n                                damp_ratio=0.05, mu=5, plot=True)"
      ]
    }
  ],
  "metadata": {
    "kernelspec": {
      "display_name": "Python 3",
      "language": "python",
      "name": "python3"
    },
    "language_info": {
      "codemirror_mode": {
        "name": "ipython",
        "version": 3
      },
      "file_extension": ".py",
      "mimetype": "text/x-python",
      "name": "python",
      "nbconvert_exporter": "python",
      "pygments_lexer": "ipython3",
      "version": "3.11.7"
    }
  },
  "nbformat": 4,
  "nbformat_minor": 0
}