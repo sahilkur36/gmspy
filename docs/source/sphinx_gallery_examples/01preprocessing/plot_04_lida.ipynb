{
  "cells": [
    {
      "cell_type": "code",
      "execution_count": null,
      "metadata": {
        "collapsed": false
      },
      "outputs": [],
      "source": [
        "%matplotlib inline"
      ]
    },
    {
      "cell_type": "markdown",
      "metadata": {},
      "source": [
        "\n\n# Linear Dynamic Time-History Analysis of SDOF System\n\nsee :func:`gmspy.lida`.\n"
      ]
    },
    {
      "cell_type": "code",
      "execution_count": null,
      "metadata": {
        "collapsed": false
      },
      "outputs": [],
      "source": [
        "import gmspy as gm\n\nts, acc = gm.load_gm_examples('Kocaeli')\ndt = ts[1] - ts[0]\nT = 1\npi = 3.1415926\nomega = pi * 2 / T\nu, v, d = gm.lida(dt, acc, method='Nigam_Jennings',\n                  omega=omega, damp_ratio=0.05, plot=True)"
      ]
    }
  ],
  "metadata": {
    "kernelspec": {
      "display_name": "Python 3",
      "language": "python",
      "name": "python3"
    },
    "language_info": {
      "codemirror_mode": {
        "name": "ipython",
        "version": 3
      },
      "file_extension": ".py",
      "mimetype": "text/x-python",
      "name": "python",
      "nbconvert_exporter": "python",
      "pygments_lexer": "ipython3",
      "version": "3.11.7"
    }
  },
  "nbformat": 4,
  "nbformat_minor": 0
}