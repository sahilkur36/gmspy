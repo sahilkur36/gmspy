{
  "cells": [
    {
      "cell_type": "code",
      "execution_count": null,
      "metadata": {
        "collapsed": false
      },
      "outputs": [],
      "source": [
        "%matplotlib inline"
      ]
    },
    {
      "cell_type": "markdown",
      "metadata": {},
      "source": [
        "\n\n# Filtering\n\n``Filtering`` is employed to remove unwanted frequency components from a given signal;\n(i) ``lowpass`` filtering suppresses frequencies that are higher than a user-defined cut-off frequency (Freq1),\n(ii) ``highpass`` filtering allows frequencies that are higher than the cut-off frequency (Freq1) to pass through,\n(iii) ``bandpass`` filtering allows signals within a given frequency range (Freq1 to Freq2) bandwidth to pass through and\n(iv) ``bandstop`` filtering suppresses signals within the given frequency range (Freq1 to Freq2)-\nnote that Freq2 cannot be higher than 1/2 of the record's time-step frequency.\n\nTo create any of the above four filtering configurations, three classical ``infinite-impulse-response (IIR)``\nfilter types are available in ``gmspy``: ``Butterworth``, ``Chebyshev`` and ``Bessel`` filters.\n\nsee :func:`gmspy.freq_filt`.\n"
      ]
    },
    {
      "cell_type": "code",
      "execution_count": null,
      "metadata": {
        "collapsed": false
      },
      "outputs": [],
      "source": [
        "import numpy as np\nimport matplotlib.pyplot as plt\n\nimport gmspy as gm"
      ]
    },
    {
      "cell_type": "markdown",
      "metadata": {},
      "source": [
        "load \"ChiChi\" records\n\n"
      ]
    },
    {
      "cell_type": "code",
      "execution_count": null,
      "metadata": {
        "collapsed": false
      },
      "outputs": [],
      "source": [
        "ts, acc = gm.load_gm_examples('ChiChi')\ndt = ts[1] - ts[0]"
      ]
    },
    {
      "cell_type": "markdown",
      "metadata": {},
      "source": [
        "['lowpass', 'highpass', 'bandpass', 'bandstop']\n['Butterworth', 'Chebyshev', 'Bessel']\n\n"
      ]
    },
    {
      "cell_type": "code",
      "execution_count": null,
      "metadata": {
        "collapsed": false
      },
      "outputs": [],
      "source": [
        "colors = ['#037ef3', '#f85a40', '#00c16e', '#7552cc']\n\nfig, axs = plt.subplots(4, 1, figsize=(9, 12), sharex=True)\nfor i, b in enumerate(['lowpass', 'highpass', 'bandpass', 'bandstop']):\n    ax = axs[i]\n    ax.plot(ts, acc, c='gray', lw=1, label=\"origin\", alpha=0.6)\n    ax.hlines(0, np.min(ts), np.max(ts), lw=0.5, colors='k')\n    ax.set_xlim(np.min(ts), np.max(ts))\n    ax.grid(False)\n    ax.set_ylabel('acceleration', fontsize=15)\n    ax.tick_params(labelsize=12)\n    ax.set_title(b, fontsize=15)\n    for j, f in enumerate(['Butterworth', 'Chebyshev', 'Bessel']):\n        acc2 = gm.freq_filt(dt, acc,\n                            ftype=f,  # 'Butterworth', 'Chebyshev', 'Bessel'\n                            btype=b,  # 'lowpass', 'highpass', 'bandpass', 'bandstop'\n                            order=4,\n                            freq1=9,\n                            freq2=20,\n                            rp=3,\n                            plot=False)\n        ax.plot(ts, acc2, c=colors[j], lw=1, alpha=0.9, label=f\"{f}\")\naxs[0].legend(fontsize=12, ncol=4, loc='center',\n              bbox_to_anchor=(0.5, 1.35))\naxs[-1].set_xlabel(\"Time (s)\", fontsize=15)\nplt.subplots_adjust(hspace=0.25)\nplt.show()"
      ]
    }
  ],
  "metadata": {
    "kernelspec": {
      "display_name": "Python 3",
      "language": "python",
      "name": "python3"
    },
    "language_info": {
      "codemirror_mode": {
        "name": "ipython",
        "version": 3
      },
      "file_extension": ".py",
      "mimetype": "text/x-python",
      "name": "python",
      "nbconvert_exporter": "python",
      "pygments_lexer": "ipython3",
      "version": "3.11.7"
    }
  },
  "nbformat": 4,
  "nbformat_minor": 0
}